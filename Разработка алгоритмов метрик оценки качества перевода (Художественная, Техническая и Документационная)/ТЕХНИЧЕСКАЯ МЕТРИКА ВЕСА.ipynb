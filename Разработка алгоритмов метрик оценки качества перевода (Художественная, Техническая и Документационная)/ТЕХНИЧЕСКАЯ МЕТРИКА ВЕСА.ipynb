{
 "cells": [
  {
   "cell_type": "code",
   "execution_count": 7,
   "metadata": {},
   "outputs": [
    {
     "name": "stdout",
     "output_type": "stream",
     "text": [
      "\n",
      "Средние значения для категорий 'Журналистика' и 'Научный' (EN-RU):\n",
      "BLEU: 0.20942325257268707\n",
      "ROUGE-1: 0.3981428984095682\n",
      "METEOR: 0.39476301021081694\n",
      "\n",
      "Средние значения для категорий 'Журналистика' и 'Научный' (RU-EN):\n",
      "BLEU: 0.19272781253033744\n",
      "ROUGE-1: 0.41394123965582236\n",
      "METEOR: 0.41474240767188597\n"
     ]
    }
   ],
   "source": [
    "import pandas as pd\n",
    "\n",
    "# Загрузка данных\n",
    "df = pd.read_csv('data.csv')\n",
    "\n",
    "# Функция для расчета средних значений по выбранным категориям и метрикам\n",
    "def compute_selected_means(direction):\n",
    "    # Фильтрация данных по направлению и категориям \"Журналистика\" и \"Научный\"\n",
    "    filtered_df = df[(df['Направление перевода'] == direction) & \n",
    "                     (df['Категория'].isin(['Журналистика', 'Научный']))]\n",
    "\n",
    "    # Вычисление средних значений для BLEU, ROUGE-1 и METEOR\n",
    "    bleu_mean = filtered_df['BLEU'].mean()\n",
    "    rouge_1_mean = filtered_df['ROUGE-1'].mean()\n",
    "    meteor_mean = filtered_df['METEOR'].mean()\n",
    "\n",
    "    print(f\"\\nСредние значения для категорий 'Журналистика' и 'Научный' ({direction}):\")\n",
    "    print(f\"BLEU: {bleu_mean}\")\n",
    "    print(f\"ROUGE-1: {rouge_1_mean}\")\n",
    "    print(f\"METEOR: {meteor_mean}\")\n",
    "\n",
    "# Средние значения для EN-RU\n",
    "compute_selected_means('EN-RU')\n",
    "\n",
    "# Средние значения для RU-EN\n",
    "compute_selected_means('RU-EN')\n"
   ]
  },
  {
   "cell_type": "markdown",
   "metadata": {},
   "source": [
    "En-Ru Technic Metric. Техническая метрика с английского на русский:"
   ]
  },
  {
   "cell_type": "code",
   "execution_count": 8,
   "metadata": {},
   "outputs": [
    {
     "name": "stdout",
     "output_type": "stream",
     "text": [
      "En-Ru веса для метрики BLEU 0.2089366055392528\n",
      "En-Ru веса для метрики ROGUE: 0.3972177143241635\n",
      "En-Ru веса для метрики METEOR: 0.39384568013658366\n",
      "En-Ru сумма всех весов: 1.0\n",
      "En-Ru техническая метрика: 0.35738130184341743\n"
     ]
    }
   ],
   "source": [
    "# Среднее арифметическое метрик оценки качества перевода технических текстов \n",
    "er_bleu_score = 0.20942325257268707\n",
    "er_rouge1_score = 0.3981428984095682\n",
    "er_meteor_score = 0.39476301021081694\n",
    "\n",
    "\n",
    "# Функция для вычисления взвешенной метрики на основе предоставленных BLEU, METEOR и ROUGE-1\n",
    "def calculate_weighted_metric(er_bleu, er_meteor, er_rouge1):\n",
    "    # Вычисление суммы всех метрик\n",
    "    er_k = er_bleu + er_meteor + er_rouge1\n",
    "\n",
    "    # Вычисление весов для каждой метрики\n",
    "    er_w_bleu = er_bleu / er_k\n",
    "    er_w_rouge1 = er_rouge1 / er_k\n",
    "    er_w_meteor = er_meteor / er_k\n",
    "   \n",
    "\n",
    "    # Вычисление суммы весов (должно быть 1)\n",
    "    er_total_weight = er_w_bleu + er_w_meteor + er_w_rouge1\n",
    "\n",
    "    # Вычисление новой технической метрики с весами\n",
    "    er_tech = er_w_bleu * er_bleu + er_w_meteor * er_meteor + er_w_rouge1 * er_rouge1\n",
    "\n",
    "    return er_w_bleu, er_w_meteor, er_w_rouge1, er_total_weight, er_tech\n",
    "\n",
    "\n",
    "\n",
    "# Вызов функции для вычисления весов и взвешенной метрики\n",
    "er_w_bleu, er_w_meteor, er_w_rouge1, er_total_weight, er_tech = calculate_weighted_metric(er_bleu_score, er_meteor_score, er_rouge1_score)\n",
    "\n",
    "print(\"En-Ru веса для метрики BLEU\", er_w_bleu)\n",
    "print(\"En-Ru веса для метрики ROGUE:\", er_w_rouge1)\n",
    "print(\"En-Ru веса для метрики METEOR:\", er_w_meteor)\n",
    "print(\"En-Ru сумма всех весов:\", er_total_weight)\n",
    "print(\"En-Ru техническая метрика:\", er_tech)\n"
   ]
  },
  {
   "cell_type": "markdown",
   "metadata": {},
   "source": [
    "Ru-En Technic Metric. Техническая метрика с русского на английский:"
   ]
  },
  {
   "cell_type": "code",
   "execution_count": 9,
   "metadata": {},
   "outputs": [
    {
     "name": "stdout",
     "output_type": "stream",
     "text": [
      "Ru-En веса для метрики BLEU 0.1886877327155919\n",
      "Ru-En веса для метрики ROGUE: 0.4052639469243387\n",
      "Ru-En веса для метрики METEOR: 0.40604832036006944\n",
      "Ru-En сумма всех весов: 1.0\n",
      "Ru-En техническая метрика: 0.3725262925725177\n"
     ]
    }
   ],
   "source": [
    "# Среднее арифметическое метрик оценки качества перевода технических текстов \n",
    "re_bleu_score = 0.19272781253033744\n",
    "re_rouge1_score = 0.41394123965582236\n",
    "re_meteor_score = 0.41474240767188597\n",
    "\n",
    "\n",
    "# Функция для вычисления взвешенной метрики на основе предоставленных BLEU, METEOR и ROUGE-1\n",
    "def calculate_weighted_metric(re_bleu, re_meteor, re_rouge1):\n",
    "    # Вычисление суммы всех метрик\n",
    "    re_k = re_bleu + re_meteor + re_rouge1\n",
    "\n",
    "    # Вычисление весов для каждой метрики\n",
    "    re_w_bleu = re_bleu / re_k\n",
    "    re_w_rouge1 = re_rouge1 / re_k\n",
    "    re_w_meteor = re_meteor / re_k\n",
    "   \n",
    "\n",
    "    # Вычисление суммы весов (должно быть 1)\n",
    "    re_total_weight = re_w_bleu + re_w_meteor + re_w_rouge1\n",
    "\n",
    "    # Вычисление новой технической метрики с весами\n",
    "    re_tech = re_w_bleu * re_bleu + re_w_meteor * re_meteor + re_w_rouge1 * re_rouge1\n",
    "\n",
    "    return re_w_bleu, re_w_meteor, re_w_rouge1, re_total_weight, re_tech\n",
    "\n",
    "\n",
    "\n",
    "# Вызов функции для вычисления весов и взвешенной метрики\n",
    "re_w_bleu, re_w_meteor, re_w_rouge1, re_total_weight, re_tech = calculate_weighted_metric(re_bleu_score, re_meteor_score, re_rouge1_score)\n",
    "\n",
    "print(\"Ru-En веса для метрики BLEU\", re_w_bleu)\n",
    "print(\"Ru-En веса для метрики ROGUE:\", re_w_rouge1)\n",
    "print(\"Ru-En веса для метрики METEOR:\", re_w_meteor)\n",
    "print(\"Ru-En сумма всех весов:\", re_total_weight)\n",
    "print(\"Ru-En техническая метрика:\", re_tech)"
   ]
  },
  {
   "cell_type": "markdown",
   "metadata": {},
   "source": [
    "Technic Metric Weights. Среднее арифметическое весов технической метрики."
   ]
  },
  {
   "cell_type": "code",
   "execution_count": 10,
   "metadata": {},
   "outputs": [
    {
     "name": "stdout",
     "output_type": "stream",
     "text": [
      "Ru-En веса для метрики BLEU 0.19881216912742233\n",
      "Ru-En веса для метрики ROGUE: 0.4012408306242511\n",
      "Ru-En веса для метрики METEOR: 0.3999470002483265\n",
      "Ru-En сумма всех весов: 1.0\n",
      "Ru-En художественная метрика: 0.36495379720796756\n"
     ]
    }
   ],
   "source": [
    "tech_bleu = (er_w_bleu + re_w_bleu) / 2\n",
    "tech_rouge = (er_w_rouge1 + re_w_rouge1) / 2\n",
    "tech_meteor = (er_w_meteor + re_w_meteor) / 2\n",
    "tech_total_weight = (er_total_weight+ re_total_weight) / 2\n",
    "tech_average = (er_tech + re_tech) / 2\n",
    "\n",
    "print(\"Ru-En веса для метрики BLEU\", tech_bleu)\n",
    "print(\"Ru-En веса для метрики ROGUE:\", tech_rouge)\n",
    "print(\"Ru-En веса для метрики METEOR:\", tech_meteor)\n",
    "print(\"Ru-En сумма всех весов:\", tech_total_weight)\n",
    "print(\"Ru-En художественная метрика:\", tech_average)"
   ]
  },
  {
   "cell_type": "markdown",
   "metadata": {},
   "source": [
    "Метрика оценки качества перевода технических текстов с уникальными весами."
   ]
  },
  {
   "cell_type": "code",
   "execution_count": 11,
   "metadata": {},
   "outputs": [
    {
     "ename": "NameError",
     "evalue": "name 'bleu_score' is not defined",
     "output_type": "error",
     "traceback": [
      "\u001b[1;31m---------------------------------------------------------------------------\u001b[0m",
      "\u001b[1;31mNameError\u001b[0m                                 Traceback (most recent call last)",
      "Cell \u001b[1;32mIn[11], line 2\u001b[0m\n\u001b[0;32m      1\u001b[0m \u001b[38;5;66;03m# Вычисление суммы всех метрик\u001b[39;00m\n\u001b[1;32m----> 2\u001b[0m k \u001b[38;5;241m=\u001b[39m \u001b[43mbleu_score\u001b[49m \u001b[38;5;241m+\u001b[39m \u001b[38;5;28msum\u001b[39m(rouge[\u001b[38;5;124m'\u001b[39m\u001b[38;5;124mrouge-1\u001b[39m\u001b[38;5;124m'\u001b[39m][\u001b[38;5;124m'\u001b[39m\u001b[38;5;124mf\u001b[39m\u001b[38;5;124m'\u001b[39m] \u001b[38;5;28;01mfor\u001b[39;00m rouge \u001b[38;5;129;01min\u001b[39;00m scores) \u001b[38;5;241m+\u001b[39m score \n\u001b[0;32m      4\u001b[0m \u001b[38;5;66;03m# Уникальные веса для каждой метрики оценки качества перевода технических текстов\u001b[39;00m\n\u001b[0;32m      5\u001b[0m w_bleu \u001b[38;5;241m=\u001b[39m \u001b[38;5;241m0.2\u001b[39m\n",
      "\u001b[1;31mNameError\u001b[0m: name 'bleu_score' is not defined"
     ]
    }
   ],
   "source": [
    "# Вычисление суммы всех метрик\n",
    "k = bleu_score + sum(rouge['rouge-1']['f'] for rouge in scores) + score \n",
    "\n",
    "# Уникальные веса для каждой метрики оценки качества перевода технических текстов\n",
    "w_bleu = 0.2\n",
    "w_rouge_1 = 0.4\n",
    "w_score = 0.4\n",
    "\n",
    "# Вычисление метрики оценки качества перевода технических текстов с уникальными весами\n",
    "tech_met = w_bleu * bleu_score + w_rouge_1 * sum(rouge['rouge-1']['f'] for rouge in scores) + w_score * score \n",
    "\n",
    "# Результаты оценки качества перевода технического текста\n",
    "print(\"Оценка качества перевода технического текста:\", tech_met)"
   ]
  }
 ],
 "metadata": {
  "kernelspec": {
   "display_name": "Python 3",
   "language": "python",
   "name": "python3"
  },
  "language_info": {
   "codemirror_mode": {
    "name": "ipython",
    "version": 3
   },
   "file_extension": ".py",
   "mimetype": "text/x-python",
   "name": "python",
   "nbconvert_exporter": "python",
   "pygments_lexer": "ipython3",
   "version": "3.8.10"
  }
 },
 "nbformat": 4,
 "nbformat_minor": 2
}
