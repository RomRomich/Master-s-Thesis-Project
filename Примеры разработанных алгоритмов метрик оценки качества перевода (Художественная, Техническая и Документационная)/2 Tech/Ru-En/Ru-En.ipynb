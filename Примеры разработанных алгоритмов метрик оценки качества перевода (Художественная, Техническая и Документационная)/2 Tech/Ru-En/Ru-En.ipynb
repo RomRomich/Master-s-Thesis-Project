{
 "cells": [
  {
   "cell_type": "markdown",
   "metadata": {},
   "source": [
    "Импортируем необходимые библиотеки:"
   ]
  },
  {
   "cell_type": "code",
   "execution_count": 1,
   "metadata": {},
   "outputs": [
    {
     "name": "stderr",
     "output_type": "stream",
     "text": [
      "[nltk_data] Downloading package stopwords to\n",
      "[nltk_data]     C:\\Users\\PC\\AppData\\Roaming\\nltk_data...\n",
      "[nltk_data]   Package stopwords is already up-to-date!\n",
      "[nltk_data] Downloading package punkt to\n",
      "[nltk_data]     C:\\Users\\PC\\AppData\\Roaming\\nltk_data...\n",
      "[nltk_data]   Package punkt is already up-to-date!\n"
     ]
    }
   ],
   "source": [
    "import os  # Импорт модуля для работы с операционной системой\n",
    "import nltk  # Импорт библиотеки Natural Language Toolkit (NLTK)\n",
    "import matplotlib.pyplot as plt  # Импорт библиотеки для построения графиков\n",
    "import csv  # Импорт модуля для работы с файлами CSV\n",
    "\n",
    "from nltk.corpus import stopwords  # Импорт списка стоп-слов из NLTK\n",
    "from nltk.stem import SnowballStemmer  # Импорт стеммера из NLTK\n",
    "from transformers import pipeline  # Импорт модуля pipeline из библиотеки transformers\n",
    "from nltk.tokenize import word_tokenize  # Функция для токенизации текста\n",
    "from nltk.translate.bleu_score import corpus_bleu  # Функция для вычисления BLEU\n",
    "from nltk.translate.meteor_score import meteor_score  # Функция для вычисления METEOR\n",
    "from rouge import Rouge  # Класс для вычисления метрики ROUGE\n",
    "\n",
    "# Загрузка ресурсов NLTK\n",
    "nltk.download('stopwords')  # Загрузка списка стоп-слов из NLTK\n",
    "nltk.download('punkt')  # Загрузка пунктуации из NLTK\n",
    "\n",
    "# Загрузка модели для перевода текста с английского на русский\n",
    "translator = pipeline(\"translation_ru_to_en\", \"Helsinki-NLP/opus-mt-ru-en\")"
   ]
  },
  {
   "cell_type": "markdown",
   "metadata": {},
   "source": [
    "Эта функция разделяет текст из исходного файла на несколько файлов, где каждый файл содержит не более заданного количества токенов (по умолчанию 50). Текст сначала токенизируется на предложения, затем предложения разбиваются на файлы таким образом, чтобы каждый файл содержал не более максимального числа токенов. Если в тексте остались предложения после разделения на файлы, они записываются в последний файл:"
   ]
  },
  {
   "cell_type": "code",
   "execution_count": 2,
   "metadata": {},
   "outputs": [],
   "source": [
    "def split_text_to_files(input_file_path, output_directory, max_tokens_per_file=50):\n",
    "    # Читаем исходный текстовый файл\n",
    "    with open(input_file_path, 'r', encoding='utf-8') as f:\n",
    "        text = f.read()\n",
    "\n",
    "    # Создаем директорию для сохранения разделенных текстовых файлов\n",
    "    if not os.path.exists(output_directory):\n",
    "        os.makedirs(output_directory)\n",
    "\n",
    "    # Токенизируем текст на предложения\n",
    "    sentences = nltk.sent_tokenize(text)\n",
    "\n",
    "    # Разбиваем предложения на файлы по max_tokens_per_file токенов\n",
    "    file_count = 1\n",
    "    tokens_count = 0\n",
    "    current_sentences = []\n",
    "    for sentence in sentences:\n",
    "        sentence_tokens = nltk.word_tokenize(sentence)\n",
    "        # Добавляем предложение в список перед проверкой токенов\n",
    "        current_sentences.append(sentence)\n",
    "        if tokens_count + len(sentence_tokens) <= max_tokens_per_file:\n",
    "            tokens_count += len(sentence_tokens)\n",
    "        else:\n",
    "            # Создаем путь для нового файла\n",
    "            output_file_path = os.path.join(output_directory, f\"input_text ({file_count}).txt\")\n",
    "\n",
    "            # Записываем предложения в новый файл\n",
    "            with open(output_file_path, 'w', encoding='utf-8') as f:\n",
    "                f.write('\\n'.join(current_sentences))\n",
    "\n",
    "            # Сбрасываем счетчики для следующего файла\n",
    "            file_count += 1\n",
    "            current_sentences = [sentence]\n",
    "            tokens_count = len(sentence_tokens)\n",
    "\n",
    "    # Записываем оставшиеся предложения в последний файл\n",
    "    if current_sentences:\n",
    "        output_file_path = os.path.join(output_directory, f\"input_text ({file_count}).txt\")\n",
    "        with open(output_file_path, 'w', encoding='utf-8') as f:\n",
    "            f.write('\\n'.join(current_sentences))\n",
    "\n",
    "# Пример использования:\n",
    "input_file_path = \"input_text.txt\"\n",
    "output_directory = \"input_texts\"\n",
    "split_text_to_files(input_file_path, output_directory)\n"
   ]
  },
  {
   "cell_type": "markdown",
   "metadata": {},
   "source": [
    "Этот код выполняет `предобработку текста`, включая токенизацию, удаление стоп-слов на русском языке, стемминг токенов и ограничение количества токенов до 512, а затем возвращает предобработанный текст:"
   ]
  },
  {
   "cell_type": "code",
   "execution_count": 3,
   "metadata": {},
   "outputs": [],
   "source": [
    "# Создание экземпляра стеммера\n",
    "stemmer = SnowballStemmer(\"english\")\n",
    "\n",
    "# Получение списка стоп-слов на русском языке\n",
    "stop_words = set(stopwords.words('english'))\n",
    "\n",
    "# Функция предобработки текста\n",
    "def preprocess_text(text):\n",
    "    # Токенизация текста\n",
    "    tokens = word_tokenize(text)\n",
    "    \n",
    "    # Удаление стоп-слов\n",
    "    filtered_tokens = [word for word in tokens if word.lower() not in stop_words]\n",
    "    \n",
    "    # Стемминг токенов\n",
    "    stemmed_tokens = [stemmer.stem(token) for token in filtered_tokens]\n",
    "    \n",
    "    # Ограничение количества токенов до 512\n",
    "    limited_tokens = stemmed_tokens[:512]\n",
    "    \n",
    "    # Склеивание токенов обратно в строку\n",
    "    preprocessed_text = ' '.join(limited_tokens)\n",
    "    \n",
    "    return preprocessed_text"
   ]
  },
  {
   "cell_type": "markdown",
   "metadata": {},
   "source": [
    "Этот код выполняет `перевод текста из файла с английского на русский`, `предобрабатывает его`, используя функцию `preprocess_text`, затем `сохраняет результат перевода в файл`. После этого определяются пути к директориям с входными текстовыми файлами и для сохранения переведенных текстовых файлов:"
   ]
  },
  {
   "cell_type": "code",
   "execution_count": 4,
   "metadata": {},
   "outputs": [],
   "source": [
    "# Функция перевода текста из файла и сохранения перевода в файл\n",
    "def translate_file(input_file, output_file):\n",
    "    \"\"\"Translate Russian text from input file to English, preprocess it, and save to output file\"\"\"\n",
    "    with open(input_file, 'r', encoding='utf-8') as f:\n",
    "        input_text = f.read()  # Чтение текста из входного файла\n",
    "    \n",
    "    # Предобработка текста\n",
    "    preprocessed_text = preprocess_text(input_text)\n",
    "    \n",
    "    # Перевод предобработанного текста\n",
    "    translated_text = translator(preprocessed_text)[0]['translation_text']\n",
    "    \n",
    "    with open(output_file, 'w', encoding='utf-8') as f:\n",
    "        f.write(translated_text)  # Запись переведенного текста в файл\n",
    "\n",
    "# Получаем путь к текущей директории (директории, в которой находится блокнот)\n",
    "current_directory = os.getcwd()\n",
    "\n",
    "# Путь к директории с входными текстовыми файлами (предполагая, что они находятся в поддиректории \"input_texts\")\n",
    "input_directory = os.path.join(current_directory, \"input_texts\")\n",
    "\n",
    "# Путь к директории для сохранения переведенных текстовых файлов (предполагая, что они будут сохранены в поддиректории \"translated_texts\")\n",
    "output_directory = os.path.join(current_directory, \"translated_texts\")\n",
    "\n"
   ]
  },
  {
   "cell_type": "markdown",
   "metadata": {},
   "source": [
    "Этот код создает директорию для сохранения `переведенных файлов`, если таковая еще не существует, затем получает список всех файлов в директории с исходными текстами. \n",
    "Затем он `переводит каждый файл` и сохраняет результат в директорию с переведенными текстами, преобразуя названия файлов. \n",
    "После этого он получает список всех файлов в директории с переведенными текстами и `создает общий файл`, в который записываются все переведенные тексты."
   ]
  },
  {
   "cell_type": "code",
   "execution_count": 5,
   "metadata": {},
   "outputs": [
    {
     "name": "stderr",
     "output_type": "stream",
     "text": [
      "Your input_length: 470 is bigger than 0.9 * max_length: 512. You might consider increasing your max_length manually, e.g. translator('...', max_length=400)\n"
     ]
    }
   ],
   "source": [
    "# Создаем директорию для сохранения переведенных текстовых файлов, если она еще не существует\n",
    "if not os.path.exists(output_directory):\n",
    "    os.makedirs(output_directory)\n",
    "\n",
    "# Получаем список всех файлов в директории с входными текстами\n",
    "input_files = os.listdir(input_directory)\n",
    "\n",
    "# Переводим каждый файл и сохраняем результат в директорию с выходными текстами\n",
    "for input_file in input_files:\n",
    "    # Формируем пути к входному и выходному файлам\n",
    "    input_file_path = os.path.join(input_directory, input_file)\n",
    "    output_file_path = os.path.join(output_directory, input_file.replace(\"input_text\", \"output_text\"))\n",
    "    \n",
    "    # Переводим текст из входного файла и сохраняем результат в выходной файл\n",
    "    translate_file(input_file_path, output_file_path)\n",
    "\n",
    "# Получаем список всех файлов в директории с переведенными текстами\n",
    "translated_files = os.listdir(output_directory)\n",
    "\n",
    "# Путь к общему файлу, куда будут записаны все переведенные тексты\n",
    "combined_output_file = os.path.join(current_directory, \"translated.txt\")\n"
   ]
  },
  {
   "cell_type": "markdown",
   "metadata": {},
   "source": [
    "Этот блок кода открывает `общий файл для записи` и проходит по каждому переведенному файлу. Для каждого файла он читает его содержимое и записывает его в общий файл, добавляя новую строку после каждого перевода."
   ]
  },
  {
   "cell_type": "code",
   "execution_count": 6,
   "metadata": {},
   "outputs": [],
   "source": [
    "\n",
    "# Открываем общий файл для записи\n",
    "with open(combined_output_file, 'w', encoding='utf-8') as combined_file:\n",
    "    # Проходим по каждому переведенному файлу\n",
    "    for translated_file in translated_files:\n",
    "        # Формируем путь к текущему переведенному файлу\n",
    "        translated_file_path = os.path.join(output_directory, translated_file)\n",
    "        \n",
    "        # Читаем содержимое текущего переведенного файла\n",
    "        with open(translated_file_path, 'r', encoding='utf-8') as f:\n",
    "            translated_text = f.read()\n",
    "        \n",
    "        # Записываем содержимое текущего переведенного файла в общий файл\n",
    "        combined_file.write(translated_text + '\\n')"
   ]
  },
  {
   "cell_type": "markdown",
   "metadata": {},
   "source": [
    "Этот код определяет функцию `load_text_preprocessed`, которая `загружает текст из файла и предварительно обрабатывает его`. Затем он `загружает эталонный и переведенный тексты`, предварительно обрабатывая их с помощью этой функции. Далее происходит токенизация обоих текстовых файлов с использованием нижнего регистра."
   ]
  },
  {
   "cell_type": "code",
   "execution_count": 7,
   "metadata": {},
   "outputs": [],
   "source": [
    "# Функция для загрузки текста из файла с предобработкой\n",
    "def load_text_preprocessed(file_path):\n",
    "    with open(file_path, 'r', encoding='utf-8') as file:\n",
    "        text = file.read()\n",
    "        # Предобработка загруженного текста\n",
    "        preprocessed_text = preprocess_text(text)\n",
    "    return preprocessed_text\n",
    "\n",
    "# Загрузка предобработанного эталонного текста\n",
    "reference_text = load_text_preprocessed('reference.txt')\n",
    "\n",
    "# Загрузка предобработанного переведенного текста\n",
    "translated_text = load_text_preprocessed('translated.txt')\n",
    "\n",
    "# Токенизация текстов\n",
    "reference_tokens = word_tokenize(reference_text.lower())\n",
    "translated_tokens = word_tokenize(translated_text.lower())"
   ]
  },
  {
   "cell_type": "markdown",
   "metadata": {},
   "source": [
    "Этот фрагмент кода вычисляет `BLEU-метрику` для оценки качества перевода, используя эталонные и переведенные токены. Затем он создает экземпляр класса Rouge для вычисления метрики `ROUGE` и вычисляет ROUGE-оценки для переведенного и эталонного текстов. Наконец, он использует метрику `METEOR` для оценки качества перевода и выводит результаты всех трех метрик.\n",
    "\n",
    "1. BLEU-метрика: оценивает качество перевода путем сравнения переведенного текста с эталонным текстом на основе n-грамм.\n",
    "2. ROUGE-метрика: вычисляет сходство между двумя текстами, учитывая пересечение слов и последовательность слов.\n",
    "3. METEOR-метрика: оценивает качество перевода, учитывая семантическое сходство между переведенным и эталонным текстами."
   ]
  },
  {
   "cell_type": "code",
   "execution_count": 8,
   "metadata": {},
   "outputs": [
    {
     "name": "stdout",
     "output_type": "stream",
     "text": [
      "BLEU score: 0.2515361017579002\n",
      "ROUGE scores: [{'rouge-1': {'r': 0.813953488372093, 'p': 0.8015267175572519, 'f': 0.8076923026926036}, 'rouge-2': {'r': 0.5497835497835498, 'p': 0.49609375, 'f': 0.5215605699618415}, 'rouge-l': {'r': 0.7829457364341085, 'p': 0.7709923664122137, 'f': 0.7769230719233727}}]\n",
      "METEOR score: 0.6493651934546939\n"
     ]
    }
   ],
   "source": [
    "# Вычисление BLEU-метрики\n",
    "bleu_score = corpus_bleu([[reference_tokens]], [translated_tokens])\n",
    "\n",
    "# Создание экземпляра класса Rouge\n",
    "rouge = Rouge()\n",
    "\n",
    "# Вычисление метрики ROUGE\n",
    "scores = rouge.get_scores(translated_text, reference_text)\n",
    "\n",
    "# Оценка качества перевода с помощью метрики METEOR\n",
    "score = meteor_score([reference_tokens], translated_tokens)\n",
    "\n",
    "# Вывод результатов\n",
    "print(\"BLEU score:\", bleu_score)\n",
    "print(\"ROUGE scores:\", scores)\n",
    "print(\"METEOR score:\", score)\n"
   ]
  },
  {
   "cell_type": "markdown",
   "metadata": {},
   "source": [
    "Этот блок кода вычисляет `среднее арифметическое из всех метрик`, включая `BLEU, ROUGE-1, ROUGE-2, ROUGE-L и METEOR`, и выводит результат. Для ROUGE-метрик происходит суммирование значений F-меры для каждой метрики из всех результатов ROUGE, а затем деление на общее количество метрик."
   ]
  },
  {
   "cell_type": "code",
   "execution_count": 9,
   "metadata": {},
   "outputs": [
    {
     "name": "stdout",
     "output_type": "stream",
     "text": [
      "Среднее арифметическое из всех метрик: 0.6014154479580824\n"
     ]
    }
   ],
   "source": [
    "# Вычисление среднего арифметического из всех метрик\n",
    "average = (bleu_score + sum(rouge['rouge-1']['f'] for rouge in scores) + sum(rouge['rouge-2']['f'] for rouge in scores) + sum(rouge['rouge-l']['f'] for rouge in scores) + score) / 5\n",
    "\n",
    "# Вывод среднего арифметического из всех метрик\n",
    "print(\"Среднее арифметическое из всех метрик:\", average)"
   ]
  },
  {
   "cell_type": "markdown",
   "metadata": {},
   "source": [
    "Этот код вычисляет сумму всех метрик, включая `BLEU, ROUGE-1 и METEOR`, и умножает каждую метрику на соответствующий ей `уникальный вес`, затем суммирует результаты для получения метрики оценки качества перевода технического текста. Результат выводится как оценка качества перевода `технического текста`:"
   ]
  },
  {
   "cell_type": "code",
   "execution_count": 10,
   "metadata": {},
   "outputs": [
    {
     "name": "stdout",
     "output_type": "stream",
     "text": [
      "Оценка качества перевода технического текста: 0.633130218810499\n"
     ]
    }
   ],
   "source": [
    "# Вычисление суммы всех метрик\n",
    "k = bleu_score + sum(rouge['rouge-1']['f'] for rouge in scores) + score \n",
    "\n",
    "# Уникальные веса для каждой метрики оценки качества перевода технических текстов\n",
    "w_bleu = 0.2\n",
    "w_rouge_1 = 0.4\n",
    "w_score = 0.4\n",
    "\n",
    "# Вычисление метрики оценки качества перевода технических текстов с уникальными весами\n",
    "tech_met = w_bleu * bleu_score + w_rouge_1 * sum(rouge['rouge-1']['f'] for rouge in scores) + w_score * score \n",
    "\n",
    "# Результаты оценки качества перевода технического текста\n",
    "print(\"Оценка качества перевода технического текста:\", tech_met)"
   ]
  },
  {
   "cell_type": "markdown",
   "metadata": {},
   "source": [
    "Этот код определяет функцию `save_metrics_to_csv`, которая сохраняет метрики в CSV-файл. Она проверяет, существует ли файл CSV, и `записывает метрики в CSV-файл`, добавляя заголовки полей, если файл только что создан. Затем он используется для сохранения заданных метрик в файл с указанным именем:"
   ]
  },
  {
   "cell_type": "code",
   "execution_count": 11,
   "metadata": {},
   "outputs": [],
   "source": [
    "def save_metrics_to_csv(metrics, csv_file):\n",
    "    # Проверяем, существует ли файл CSV\n",
    "    file_exists = os.path.exists(csv_file)\n",
    "    \n",
    "    # Открываем файл CSV в режиме добавления данных\n",
    "    with open(csv_file, 'a', newline='', encoding='utf-8') as file:\n",
    "        writer = csv.DictWriter(file, fieldnames=metrics.keys())\n",
    "        \n",
    "        # Если файл не существует, записываем заголовки полей\n",
    "        if not file_exists:\n",
    "            writer.writeheader()\n",
    "        \n",
    "        # Записываем значения метрик в файл CSV\n",
    "        writer.writerow(metrics)\n",
    "\n",
    "# Пример использования:\n",
    "metrics = {\n",
    "    'BLEU score': bleu_score,\n",
    "    'ROUGE scores': scores,\n",
    "    'METEOR score': score,\n",
    "    'Среднее арифметическое из всех метрик': average,\n",
    "    'Оценка качества перевода': tech_met\n",
    "}\n",
    "\n",
    "# Путь к файлу CSV\n",
    "csv_file = 'Ru-En metrics.csv'\n",
    "\n",
    "# Сохраняем метрики в файл CSV\n",
    "save_metrics_to_csv(metrics, csv_file)\n"
   ]
  },
  {
   "cell_type": "markdown",
   "metadata": {},
   "source": [
    "Этот код определяет функцию `load_metrics_from_csv`, которая `загружает метрики из CSV-файла`. Она читает файл CSV и `создает список словарей`, где каждый словарь представляет собой строку в файле CSV (с заголовками столбцов в качестве ключей). Функция возвращает этот список словарей, представляющих метрики из файла CSV. \n",
    "\n",
    "Пример использования этой функции загружает метрики из файла 'Ru-En metrics.csv' и выводит их на экран:"
   ]
  },
  {
   "cell_type": "code",
   "execution_count": 12,
   "metadata": {},
   "outputs": [
    {
     "name": "stdout",
     "output_type": "stream",
     "text": [
      "{'BLEU score': '0.2515361017579002', 'ROUGE scores': \"[{'rouge-1': {'r': 0.813953488372093, 'p': 0.8015267175572519, 'f': 0.8076923026926036}, 'rouge-2': {'r': 0.5497835497835498, 'p': 0.49609375, 'f': 0.5215605699618415}, 'rouge-l': {'r': 0.7829457364341085, 'p': 0.7709923664122137, 'f': 0.7769230719233727}}]\", 'METEOR score': '0.6493651934546939', 'Среднее арифметическое из всех метрик': '0.6014154479580824', 'Оценка качества перевода': '0.633130218810499'}\n",
      "{'BLEU score': '0.2515361017579002', 'ROUGE scores': \"[{'rouge-1': {'r': 0.813953488372093, 'p': 0.8015267175572519, 'f': 0.8076923026926036}, 'rouge-2': {'r': 0.5497835497835498, 'p': 0.49609375, 'f': 0.5215605699618415}, 'rouge-l': {'r': 0.7829457364341085, 'p': 0.7709923664122137, 'f': 0.7769230719233727}}]\", 'METEOR score': '0.6493651934546939', 'Среднее арифметическое из всех метрик': '0.6014154479580824', 'Оценка качества перевода': '0.633130218810499'}\n"
     ]
    }
   ],
   "source": [
    "def load_metrics_from_csv(csv_file):\n",
    "    metrics = []\n",
    "    with open(csv_file, 'r', newline='', encoding='utf-8') as file:\n",
    "        reader = csv.DictReader(file)\n",
    "        for row in reader:\n",
    "            metrics.append(row)\n",
    "    return metrics\n",
    "\n",
    "# Пример использования:\n",
    "csv_file = 'Ru-En metrics.csv'\n",
    "\n",
    "# Загружаем данные из файла CSV\n",
    "metrics = load_metrics_from_csv(csv_file)\n",
    "\n",
    "# Отображаем значения метрик\n",
    "for entry in metrics:\n",
    "    print(entry)\n"
   ]
  },
  {
   "cell_type": "markdown",
   "metadata": {},
   "source": [
    "Этот код `загружает метрики` из CSV-файла, `вычисляет среднее арифметическое` для BLEU score, METEOR score, ROUGE-1, ROUGE-2, ROUGE-L и `метрики с уникальными весами`, а затем выводит результаты на экран:"
   ]
  },
  {
   "cell_type": "code",
   "execution_count": 13,
   "metadata": {},
   "outputs": [
    {
     "name": "stdout",
     "output_type": "stream",
     "text": [
      "Среднее арифметическое для BLEU score: 0.2515361017579002\n",
      "Среднее арифметическое для METEOR score: 0.6493651934546939\n",
      "Среднее арифметическое для ROUGE-1: 0.8076923026926036\n",
      "Среднее арифметическое для ROUGE-2: 0.5215605699618415\n",
      "Среднее арифметическое для ROUGE-L: 0.7769230719233727\n",
      "Среднее арифметическое из всех метрик: 0.6014154479580824\n",
      "Оценка качества перевода: 0.633130218810499\n"
     ]
    }
   ],
   "source": [
    "def load_metrics_from_csv(csv_file):\n",
    "    metrics = []\n",
    "    with open(csv_file, 'r', newline='', encoding='utf-8') as file:\n",
    "        reader = csv.DictReader(file)\n",
    "        for row in reader:\n",
    "            metrics.append(row)\n",
    "    return metrics\n",
    "\n",
    "def calculate_average(metrics):\n",
    "    bleu_scores = []\n",
    "    meteor_scores = []\n",
    "    rouge_1_scores = []\n",
    "    rouge_2_scores = []\n",
    "    rouge_l_scores = []\n",
    "    average_scores = []\n",
    "    tech_met_scores = []  # Массив для хранения значений tech_met\n",
    "    \n",
    "    for entry in metrics:\n",
    "        bleu_scores.append(float(entry['BLEU score']))\n",
    "        meteor_scores.append(float(entry['METEOR score']))\n",
    "        \n",
    "        # ROUGE scores в формате строки, преобразуем в словарь\n",
    "        rouge_scores = eval(entry['ROUGE scores'])\n",
    "        \n",
    "        rouge_1_scores.append(rouge_scores[0]['rouge-1']['f'])\n",
    "        rouge_2_scores.append(rouge_scores[0]['rouge-2']['f'])\n",
    "        rouge_l_scores.append(rouge_scores[0]['rouge-l']['f'])\n",
    "        \n",
    "        average_scores.append(float(entry['Среднее арифметическое из всех метрик']))\n",
    "        tech_met_scores.append(float(entry['Оценка качества перевода']))  # Добавляем значение tech_met из CSV\n",
    "    \n",
    "    # Вычисляем среднее арифметическое для каждой метрики\n",
    "    average_bleu = sum(bleu_scores) / len(bleu_scores)\n",
    "    average_meteor = sum(meteor_scores) / len(meteor_scores)\n",
    "    average_rouge_1 = sum(rouge_1_scores) / len(rouge_1_scores)\n",
    "    average_rouge_2 = sum(rouge_2_scores) / len(rouge_2_scores)\n",
    "    average_rouge_l = sum(rouge_l_scores) / len(rouge_l_scores)\n",
    "    average = sum(average_scores) / len(average_scores)\n",
    "    average_tech_met = sum(tech_met_scores) / len(tech_met_scores)  # Среднее для tech_met\n",
    "    \n",
    "    return average_bleu, average_meteor, average_rouge_1, average_rouge_2, average_rouge_l, average, average_tech_met\n",
    "\n",
    "# Пример использования:\n",
    "csv_file = 'Ru-En metrics.csv'\n",
    "\n",
    "# Загружаем данные из файла CSV\n",
    "metrics = load_metrics_from_csv(csv_file)\n",
    "\n",
    "# Вычисляем среднее арифметическое\n",
    "average_bleu, average_meteor, average_rouge_1, average_rouge_2, average_rouge_l, average, average_tech_met = calculate_average(metrics)\n",
    "\n",
    "# Выводим среднее арифметическое\n",
    "print(\"Среднее арифметическое для BLEU score:\", average_bleu)\n",
    "print(\"Среднее арифметическое для METEOR score:\", average_meteor)\n",
    "print(\"Среднее арифметическое для ROUGE-1:\", average_rouge_1)\n",
    "print(\"Среднее арифметическое для ROUGE-2:\", average_rouge_2)\n",
    "print(\"Среднее арифметическое для ROUGE-L:\", average_rouge_l)\n",
    "print(\"Среднее арифметическое из всех метрик:\", average)\n",
    "print(\"Оценка качества перевода:\", average_tech_met)  \n"
   ]
  },
  {
   "cell_type": "markdown",
   "metadata": {},
   "source": [
    "Этот код создает `гистограмму`, визуализирующую средние значения различных метрик оценки качества перевода, таких как BLEU score, METEOR score и ROUGE scores, а также метрика с весами для группы 2, для наглядного сравнения и анализа:"
   ]
  },
  {
   "cell_type": "code",
   "execution_count": 14,
   "metadata": {},
   "outputs": [
    {
     "data": {
      "image/png": "[encoded data removed]",
      "text/plain": [
       "<Figure size 1000x600 with 1 Axes>"
      ]
     },
     "metadata": {},
     "output_type": "display_data"
    }
   ],
   "source": [
    "# Средние значения метрик\n",
    "metrics_names = ['BLEU score', 'METEOR score', 'ROUGE-1', 'ROUGE-2', 'ROUGE-L', 'Среднее', 'Оценка качества']\n",
    "metrics_values = [average_bleu, average_meteor, average_rouge_1, average_rouge_2, average_rouge_l, average, tech_met]\n",
    "\n",
    "# Создание диаграммы\n",
    "plt.figure(figsize=(10, 6))\n",
    "plt.bar(metrics_names, metrics_values, color='skyblue')\n",
    "plt.title('Средние значения метрик')\n",
    "plt.xlabel('Метрика оценки качества перевода художественного текста')\n",
    "plt.ylabel('Значение')\n",
    "plt.xticks(rotation=45, ha='right')  # Поворот подписей по оси X для лучшей читаемости\n",
    "plt.tight_layout()\n",
    "\n",
    "# Отображение диаграммы\n",
    "plt.show()\n"
   ]
  },
  {
   "cell_type": "markdown",
   "metadata": {},
   "source": [
    "Этот фрагмент кода определяет функцию `load_text`, которая загружает текст из файла и возвращает его содержимое. Затем он загружает эталонный текст из файла с помощью этой функции и выводит результат его предобработки:"
   ]
  },
  {
   "cell_type": "code",
   "execution_count": 15,
   "metadata": {},
   "outputs": [
    {
     "name": "stdout",
     "output_type": "stream",
     "text": [
      "Текст после предобработки:\n",
      " unit nation charter , chapter : purpos principl articl 1 purpos unit nation : maintain intern peac secur , end : take effect collect measur prevent remov threat peac , suppress act aggress breach peac , bring peac mean , conform principl justic intern law , adjust settlement intern disput situat might lead breach peac ; develop friend relat among nation base respect principl equal right self-determin peopl , take appropri measur strengthen univers peac ; achiev intern co-oper solv intern problem econom , social , cultur , humanitarian charact , promot encourag respect human right fundament freedom without distinct race , sex , languag , religion ; centr harmon action nation attain common end . articl 2 organ member , pursuit purpos state articl 1 , shall act accord follow principl . organ base principl sovereign equal member . member , order ensur right benefit result membership , shall fulfil good faith oblig assum accord present charter . member shall settl intern disput peac mean manner intern peac secur , justic , endang . member shall refrain intern relat threat use forc territori integr polit independ state , manner inconsist purpos unit nation . member shall give unit nation everi assist action take accord present charter , shall refrain give assist state unit nation take prevent enforc action . organ shall ensur state member unit nation act accord principl far may necessari mainten intern peac secur . noth contain present charter shall author unit nation interven matter essenti within domest jurisdict state shall requir member submit matter settlement present charter ; principl shall prejudic applic enforc measur chapter vll .\n"
     ]
    }
   ],
   "source": [
    "# Функция для загрузки текста из файла\n",
    "def load_text(file_path):\n",
    "    with open(file_path, 'r', encoding='utf-8') as file:  # Открытие файла для чтения с указанием кодировки UTF-8\n",
    "        text = file.read()  # Чтение содержимого файла и сохранение в переменную text\n",
    "    return text  # Возвращение загруженного текста\n",
    "\n",
    "# Загрузка эталонного текста\n",
    "reference_text = load_text('reference.txt')\n",
    "\n",
    "# Проверка содержимого файла после предобработки\n",
    "print(\"Текст после предобработки:\\n\", preprocess_text(reference_text))"
   ]
  },
  {
   "cell_type": "markdown",
   "metadata": {},
   "source": [
    "Этот фрагмент кода `загружает и выводит эталонный текст до и после его предобработки`. Затем он загружает и выводит переведенный текст до и после его предобработки:"
   ]
  },
  {
   "cell_type": "code",
   "execution_count": 16,
   "metadata": {},
   "outputs": [
    {
     "name": "stdout",
     "output_type": "stream",
     "text": [
      "Original reference text:\n",
      " \n",
      "United Nations Charter, Chapter I:\n",
      "Purposes and Principles\n",
      "Article 1\n",
      "The Purposes of the United Nations are:\n",
      "\n",
      "To maintain international peace and security, and to that end: to take effective collective measures for the prevention and removal of threats to the peace, and for the suppression of acts of aggression or other breaches of the peace, and to bring about by peaceful means, and in conformity with the principles of justice and international law, adjustment or settlement of international disputes or situations which might lead to a breach of the peace;\n",
      "To develop friendly relations among nations based on respect for the principle of equal rights and self-determination of peoples, and to take other appropriate measures to strengthen universal peace;\n",
      "To achieve international co-operation in solving international problems of an economic, social, cultural, or humanitarian character, and in promoting and encouraging respect for human rights and for fundamental freedoms for all without distinction as to race, sex, language, or religion; and\n",
      "To be a centre for harmonizing the actions of nations in the attainment of these common ends.\n",
      "Article 2\n",
      "The Organization and its Members, in pursuit of the Purposes stated in Article 1, shall act in accordance with the following Principles.\n",
      "\n",
      "The Organization is based on the principle of the sovereign equality of all its Members.\n",
      "All Members, in order to ensure to all of them the rights and benefits resulting from membership, shall fulfill in good faith the obligations assumed by them in accordance with the present Charter.\n",
      "All Members shall settle their international disputes by peaceful means in such a manner that international peace and security, and justice, are not endangered.\n",
      "All Members shall refrain in their international relations from the threat or use of force against the territorial integrity or political independence of any state, or in any other manner inconsistent with the Purposes of the United Nations.\n",
      "All Members shall give the United Nations every assistance in any action it takes in accordance with the present Charter, and shall refrain from giving assistance to any state against which the United Nations is taking preventive or enforcement action.\n",
      "The Organization shall ensure that states which are not Members of the United Nations act in accordance with these Principles so far as may be necessary for the maintenance of international peace and security.\n",
      "Nothing contained in the present Charter shall authorize the United Nations to intervene in matters which are essentially within the domestic jurisdiction of any state or shall require the Members to submit such matters to settlement under the present Charter; but this principle shall not prejudice the application of enforcement measures under Chapter Vll.\n",
      "Preprocessed reference text:\n",
      "unit nation charter , chapter : purpos principl articl 1 purpos unit nation : maintain intern peac secur , end : take effect collect measur prevent remov threat peac , suppress act aggress breach peac , bring peac mean , conform principl justic intern law , adjust settlement intern disput situat might lead breach peac ; develop friend relat among nation base respect principl equal right self-determin peopl , take appropri measur strengthen univers peac ; achiev intern co-oper solv intern problem econom , social , cultur , humanitarian charact , promot encourag respect human right fundament freedom without distinct race , sex , languag , religion ; centr harmon action nation attain common end . articl 2 organ member , pursuit purpos state articl 1 , shall act accord follow principl . organ base principl sovereign equal member . member , order ensur right benefit result membership , shall fulfil good faith oblig assum accord present charter . member shall settl intern disput peac mean manner intern peac secur , justic , endang . member shall refrain intern relat threat use forc territori integr polit independ state , manner inconsist purpos unit nation . member shall give unit nation everi assist action take accord present charter , shall refrain give assist state unit nation take prevent enforc action . organ shall ensur state member unit nation act accord principl far may necessari mainten intern peac secur . noth contain present charter shall author unit nation interven matter essenti within domest jurisdict state shall requir member submit matter settlement present charter ; principl shall prejudic applic enforc measur chapter vll .\n",
      "Original translated text:\n",
      "charter unit nation chapter : purpos principl articl 1 organ unit nation : maintain intern peac secur , end , take effect collect measur prevent remov threat peac suppress act aggress breach peac bring peac mean , conform principl justic intern law , adjust settlement intern disput situat may lead breach peac ; develop friend relat among nation basi respect principl equal right self-determin peopl , well take appropri measur consolid world peac ; achiev intern cooper solv intern problem econom , social , cultur humanitarian charact promot encourag respect human right fundament freedom , without distinct race , sex , languag religion , centr harmon action nation achiev common object . purpos articl 1 organ unit nation : maintain intern peac secur , end , take effect collect measur prevent remov threat peac suppress act aggress breach peac carri peac mean , conform principl justic intern law , adjust settlement intern disput situat may lead breach peac ; develop friend relat among nation basi respect principl equal right self-determin peopl , well take appropri measur consolid univers peac ; achiev intern cooper solv intern problem econom , social , cultur humanitarian charact promot encourag respect human right fundament freedom , without distinct race , sex , languag religion , centr harmon action nation achiev common object . articl 2 achiev object set articl 1 , organ member shall act accord follow principl : organ shall base principl sovereign equal member ; member organ unit nation shall good faith fulfil oblig made secur right right whole right right aris right right right right right right deriv secur uniti , assist deriv mainten member member member member forc , member member member member forc forc , forc , organ , forc , member forc , forc , member organ , organ , organ , forc , organ , organ , organ , member organ , member member organ , organ , organ , organ , organ , organ , unit nation , organ , organ , member organ , organ , organ , unit nation , organ , organ , organ , articl 2 order achiev object refer articl 1 , organ member shall act accord follow principl : organ shall base principl sovereign equal member ; member organ unit nation shall fulfil good faith oblig undertaken present statut ensur right advantag result membership organ ; member organ unit nation shall settl intern disput peac mean way endang intern peac secur justic ; member organ unit nation shall refrain intern relat threat use forc territori integr polit independ state manner inconsist purpos unifi nation ; member organ unit nation shall render assist action undertaken accord present statut shall refrain assist state organ unit nation take action prevent coerciv natur ; organ shall ensur state member shall act accord principl , may necessari mainten intern peac secur ; present statut shall provid assist state organ collect right , give effect organ intervent collect right substant basi organ kind organ organ collect right organ organ organ organ organ organ organ organ organ organ organ organ\n",
      "Preprocessed translated text:\n",
      "charter unit nation chapter : purpo principl articl 1 organ unit nation : maintain intern peac secur , end , take effect collect measur prevent remov threat peac suppress act aggress breach peac bring peac mean , conform principl justic intern law , adjust settlement intern disput situat may lead breach peac ; develop friend relat among nation basi respect principl equal right self-determin peopl , well take appropri measur consolid world peac ; achiev intern cooper solv intern problem econom , social , cultur humanitarian charact promot encourag respect human right fundament freedom , without distinct race , sex , languag religion , centr harmon action nation achiev common object . purpo articl 1 organ unit nation : maintain intern peac secur , end , take effect collect measur prevent remov threat peac suppress act aggress breach peac carri peac mean , conform principl justic intern law , adjust settlement intern disput situat may lead breach peac ; develop friend relat among nation basi respect principl equal right self-determin peopl , well take appropri measur consolid univ peac ; achiev intern cooper solv intern problem econom , social , cultur humanitarian charact promot encourag respect human right fundament freedom , without distinct race , sex , languag religion , centr harmon action nation achiev common object . articl 2 achiev object set articl 1 , organ member shall act accord follow principl : organ shall base principl sovereign equal member ; member organ unit nation shall good faith fulfil oblig made secur right right whole right right ari right right right right right right deriv secur uniti , assist deriv mainten member member member member forc , member member member member forc forc , forc , organ , forc , member forc , forc , member organ , organ , organ , forc , organ , organ , organ , member organ , member member organ , organ , organ , organ , organ , organ , unit nation , organ , organ , member organ , organ , organ , unit nation , organ , organ , organ , articl 2 order achiev object refer articl 1 , organ member shall act accord follow principl : organ shall base principl sovereign equal member ; member organ unit nation shall fulfil good faith oblig undertaken present statut ensur right advantag result membership organ ; member organ unit nation shall settl intern disput peac mean way endang intern peac secur justic ; member organ unit nation shall refrain intern relat threat use forc territori integr polit independ state manner inconsist purpo unifi nation ; member organ unit nation shall render assist action undertaken accord present statut shall refrain assist state organ unit nation take action prevent coerciv natur ; organ shall ensur state member shall act accord principl , may necessari mainten intern peac secur ; present statut shall provid assist state organ collect right , give effect organ interv collect right substant basi organ kind organ organ collect right organ organ organ organ organ organ organ organ organ organ organ organ\n"
     ]
    }
   ],
   "source": [
    "# Загрузка эталонного текста до и после предобработки\n",
    "print(\"Original reference text:\")\n",
    "print(reference_text)\n",
    "reference_text_preprocessed = preprocess_text(reference_text)\n",
    "print(\"Preprocessed reference text:\")\n",
    "print(reference_text_preprocessed)\n",
    "\n",
    "# Загрузка переведенного текста до и после предобработки\n",
    "print(\"Original translated text:\")\n",
    "print(translated_text)\n",
    "translated_text_preprocessed = preprocess_text(translated_text)\n",
    "print(\"Preprocessed translated text:\")\n",
    "print(translated_text_preprocessed)"
   ]
  }
 ],
 "metadata": {
  "kernelspec": {
   "display_name": "Python 3",
   "language": "python",
   "name": "python3"
  },
  "language_info": {
   "codemirror_mode": {
    "name": "ipython",
    "version": 3
   },
   "file_extension": ".py",
   "mimetype": "text/x-python",
   "name": "python",
   "nbconvert_exporter": "python",
   "pygments_lexer": "ipython3",
   "version": "3.8.10"
  }
 },
 "nbformat": 4,
 "nbformat_minor": 2
}
